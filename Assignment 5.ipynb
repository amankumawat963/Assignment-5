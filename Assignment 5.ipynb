{
 "cells": [
  {
   "cell_type": "code",
   "execution_count": 1,
   "id": "dd92465f-0778-449f-a84e-0f28bcb5a738",
   "metadata": {},
   "outputs": [],
   "source": [
    "# Q1. Abstraction in python is defined as a process of handling complexity by hiding unnecessary information from the user."
   ]
  },
  {
   "cell_type": "code",
   "execution_count": 15,
   "id": "16c5f7d7-83e0-44b6-98db-a0867e79991c",
   "metadata": {},
   "outputs": [],
   "source": [
    "#EXAMPLE\n",
    "import abc\n",
    "class school:\n",
    "    @abc.abstractmethod\n",
    "    def mentor_detail(self):\n",
    "        pass\n",
    "    def mentor_subject(self):\n",
    "        pass"
   ]
  },
  {
   "cell_type": "code",
   "execution_count": 16,
   "id": "2a5b2253-fcb4-4ce2-a1e2-57cebad527c9",
   "metadata": {},
   "outputs": [],
   "source": [
    "class mentor_detail(school):\n",
    "    def mentor_detail(self):\n",
    "        return \"this is taking student detail\"\n",
    "    def mentor_subject(self):\n",
    "        return \"this is taking mentor subject\""
   ]
  },
  {
   "cell_type": "code",
   "execution_count": 17,
   "id": "358797fd-aff3-4262-8d88-cee4cec7892a",
   "metadata": {},
   "outputs": [],
   "source": [
    "class mentor_sch_detail(school):\n",
    "    def mentor_detail(self):\n",
    "        return \"this is method for mentor detail\"\n",
    "    def mentor_subject(self):\n",
    "        return \"this is method for mentor subject\""
   ]
  },
  {
   "cell_type": "code",
   "execution_count": 18,
   "id": "31802e61-9fed-46d9-b876-50e87e5c1a57",
   "metadata": {},
   "outputs": [],
   "source": [
    "md = mentor_detail()"
   ]
  },
  {
   "cell_type": "code",
   "execution_count": 19,
   "id": "bd135228-98ca-45cd-a0bf-a9ea5dcf4bf1",
   "metadata": {},
   "outputs": [],
   "source": [
    "msd = mentor_sch_detail()"
   ]
  },
  {
   "cell_type": "code",
   "execution_count": 21,
   "id": "1e846ceb-0f34-4fac-b2d5-e6682fc15f33",
   "metadata": {},
   "outputs": [
    {
     "data": {
      "text/plain": [
       "'this is taking student detail'"
      ]
     },
     "execution_count": 21,
     "metadata": {},
     "output_type": "execute_result"
    }
   ],
   "source": [
    "md.mentor_detail()"
   ]
  },
  {
   "cell_type": "code",
   "execution_count": 22,
   "id": "4e6a63f7-ea87-4095-a8bd-9ebbf92e1c22",
   "metadata": {},
   "outputs": [
    {
     "data": {
      "text/plain": [
       "'this is method for mentor detail'"
      ]
     },
     "execution_count": 22,
     "metadata": {},
     "output_type": "execute_result"
    }
   ],
   "source": [
    "msd.mentor_detail()"
   ]
  },
  {
   "cell_type": "code",
   "execution_count": 23,
   "id": "df12ecd5-4e48-4333-be87-145a56767da3",
   "metadata": {},
   "outputs": [],
   "source": [
    "# Q2.Abstraction is a way of representing some specific data. \n",
    "#Encapsulation is a way of hiding the complexity of something and exposing only the parts you wish to expose. "
   ]
  },
  {
   "cell_type": "code",
   "execution_count": null,
   "id": "899def7d-12d6-49ab-abfd-4c80bfe5484d",
   "metadata": {},
   "outputs": [],
   "source": []
  },
  {
   "cell_type": "code",
   "execution_count": 24,
   "id": "4e65aa72-86e9-4fa2-abaf-3c7cdbe673ff",
   "metadata": {},
   "outputs": [],
   "source": [
    "# Q3. By default, Python does not provide abstract classes. The ‘abc’ module in the Python library provides the infrastructure for defining custom abstract base classes.\n",
    "\n",
    "#Abstract class cannot be instantiated in python. An Abstract method can be call by its subclasses."
   ]
  },
  {
   "cell_type": "code",
   "execution_count": 25,
   "id": "de754c1a-7b02-43a5-a344-2541342e0c94",
   "metadata": {},
   "outputs": [],
   "source": [
    "# Q4. In Python, abstraction can be achieved by having/using abstract classes and methods in our programs."
   ]
  },
  {
   "cell_type": "code",
   "execution_count": null,
   "id": "818b4d9f-e52d-4dec-8282-a7b095642507",
   "metadata": {},
   "outputs": [],
   "source": [
    "# Q5. Abstract classes are not complete, as they may have some methods that are not defined. So we cannot create an instance or object of an abstract class in Python."
   ]
  }
 ],
 "metadata": {
  "kernelspec": {
   "display_name": "Python 3 (ipykernel)",
   "language": "python",
   "name": "python3"
  },
  "language_info": {
   "codemirror_mode": {
    "name": "ipython",
    "version": 3
   },
   "file_extension": ".py",
   "mimetype": "text/x-python",
   "name": "python",
   "nbconvert_exporter": "python",
   "pygments_lexer": "ipython3",
   "version": "3.10.8"
  }
 },
 "nbformat": 4,
 "nbformat_minor": 5
}
